{
 "cells": [
  {
   "cell_type": "markdown",
   "id": "41b4475b-e079-4418-8a6b-5b889b047349",
   "metadata": {},
   "source": [
    "Nowadays, Cloud computing is adopted by every company, whether it is an MNC or a startup many are still migrating towards it because of the cost-cutting, lesser maintenance, and the increased capacity of the data with the help of servers maintained by the cloud providers.\n",
    "\n",
    "One more reason for this drastic change from the On-premises servers of the companies to the Cloud providers is the ‘Pay as you go’ principle-based services provided by them i.e., you only have to pay for the service which you are using. The disadvantage On-premises server holds is that if the server is not in use the company still has to pay for it."
   ]
  },
  {
   "cell_type": "markdown",
   "id": "89506b23-16ee-4260-8b7a-bfe4167cd3d5",
   "metadata": {},
   "source": [
    "# What Is Cloud Computing?\n",
    "\n",
    "- Cloud computing refers to storing and accessing data and programs on remote servers hosted on the internet, rather than on a local hard drive or server.\n",
    "- Often called Internet-based computing, this technology provides resources as a service to users via the internet.\n",
    "- Data stored in the cloud can include files, images, documents, and other storable items.\n",
    "\n",
    "## Key Operations in Cloud Computing\n",
    "\n",
    "- Storage, backup, and recovery of data\n",
    "- Delivery of software on demand\n",
    "- Development of new applications and services\n",
    "- Streaming videos and audio\n"
   ]
  },
  {
   "cell_type": "markdown",
   "id": "05c4e70e-df9b-40c3-a380-9f7e162a6065",
   "metadata": {},
   "source": [
    "# Understanding How Cloud Computing Works\n",
    "\n",
    "- **Infrastructure**: Cloud computing relies on remote network servers hosted on the internet to store, manage, and process data.\n",
    "- **On-Demand Access**: Users can access cloud services and resources as needed, scaling up or down without investing in physical hardware.\n",
    "- **Types of Services**: Cloud computing provides benefits like cost savings, scalability, reliability, and accessibility, reducing capital expenditures and improving efficiency.\n"
   ]
  },
  {
   "cell_type": "markdown",
   "id": "e2054eec-2f68-4a05-a401-c06835be633e",
   "metadata": {},
   "source": [
    "# Origins of Cloud Computing\n",
    "\n",
    "- The evolution of cloud computing can be traced back to mainframe computing in the 1950s and the rise of the internet in the 1990s.\n",
    "- Companies like Amazon, Google, and Salesforce began offering web-based services in the early 2000s, popularizing the term \"cloud computing.\"\n",
    "- The concept facilitates scalability, adaptability, and cost-effectiveness through on-demand, internet-based access to computational resources.\n",
    "- Today, cloud computing is widespread, powering diverse services across industries and transforming data processing, storage, and retrieval.\n"
   ]
  },
  {
   "cell_type": "markdown",
   "id": "97d6c1d7-54b1-445d-bae5-394b7732fcce",
   "metadata": {},
   "source": [
    "# What is Virtualization in Cloud Computing?\n",
    "- Virtualization is the software technology that helps in providing the logical isolation of physical resources.\n",
    "- Creating logical isolation of physical resources such as RAM, CPU, and Storage.. over the cloud is known as **Virtualization in Cloud Computing**.\n",
    "- In simple we can say creating types of Virtual Instances of computing resources over the cloud.\n",
    "- It provides better management and utilization of hardware resources with logical isolation making the applications independent of others.\n",
    "- It facilitates streamlining the resource allocation and enhancing scalability for multiple virtual computers within a single physical source offering cost-effectiveness and better optimization of resources."
   ]
  },
  {
   "cell_type": "markdown",
   "id": "de429949-e396-4e8a-a234-114559301ac8",
   "metadata": {},
   "source": [
    "---"
   ]
  },
  {
   "cell_type": "markdown",
   "id": "c4beca1d-2ec4-4db2-b6f8-a33779b78018",
   "metadata": {},
   "source": [
    "# Architecture Of Cloud Computing\n",
    "Cloud computing architecture refers to the components and sub-components required for cloud computing. These components typically refer to:\n",
    "\n",
    "1. Front end ( Fat client, Thin client)\n",
    "2. Back-end platforms ( Servers, Storage )\n",
    "3. Cloud-based delivery and a network ( Internet, Intranet, Intercloud )\n",
    "\n",
    "<img src='Cloud-Computing-Architecture.jpg'>ud."
   ]
  },
  {
   "cell_type": "markdown",
   "id": "e79dcf65-940f-4afb-8668-304a113906f6",
   "metadata": {},
   "source": [
    "### 1. Front End ( User Interaction Enhancement )\n",
    "The User Interface of Cloud Computing consists of 2 sections of clients. The **Thin clients** are the ones that use web browsers facilitating portable and lightweight accessibilities and others are known as **Fat Clients** that use many functionalities for offering a strong user experience."
   ]
  },
  {
   "cell_type": "markdown",
   "id": "5812e255-f46f-450f-af81-02ef6b92311d",
   "metadata": {},
   "source": [
    "### 2. Back-end Platforms ( Cloud Computing Engine )\n",
    "The core of cloud computing is made at back-end platforms with several servers for storage and processing computing. Management of Applications logic is managed through servers and effective data handling is provided by storage. \n",
    "\n",
    "The combination of these platforms at the backend offers the processing power, and capacity to manage and store data behind the cloud."
   ]
  },
  {
   "cell_type": "markdown",
   "id": "42640377-497a-44ed-8a30-e5296dc5398d",
   "metadata": {},
   "source": [
    "### 3. Cloud-Based Delivery and Network\n",
    "On-demand access to the computer and resources is provided over the **Internet, Intranet, and Intercloud**. The **Internet comes with global accessibility**, the **Intranet helps in internal communications of the services within the organization** and the **Intercloud enables interoperability across various cloud services**. \n",
    "\n",
    "This dynamic network connectivity ensures an essential component of cloud computing architecture on guaranteeing easy access and data transfer."
   ]
  },
  {
   "cell_type": "markdown",
   "id": "3200ce7a-bb54-4f1c-ac6a-67fa5eb854a2",
   "metadata": {},
   "source": [
    "---"
   ]
  },
  {
   "cell_type": "markdown",
   "id": "d39945ef-6dcc-4ddf-a347-bf41d11e5919",
   "metadata": {},
   "source": [
    "# What Are The Types of Cloud Computing Services?\n",
    "The following are the types of Cloud Computing:\n",
    "1. Infrastructure as a Service (IaaS)\n",
    "2. Platform as a Service (PaaS)\n",
    "3. Software as a Service (SaaS)\n",
    "4. Function as as Service (FaaS)\n",
    "\n",
    "<img src='Types-of-Cloud-Computing-Services.jpg'>"
   ]
  },
  {
   "cell_type": "markdown",
   "id": "2659278f-656c-4e56-9bdb-ace05d8d16a1",
   "metadata": {},
   "source": [
    "## 1. Infrastructure as a Service (IaaS)\n",
    "- **Flexibility and Control**: Offers virtualized computing resources like VMs, storage, and networks, with user control over the OS and applications.\n",
    "- **Cost Savings**: Eliminates physical infrastructure needs, reducing hardware expenses.\n",
    "- **Scalability**: Allows scaling of resources up or down based on demand for optimal performance.\n",
    "\n",
    "## 2. Platform as a Service (PaaS)\n",
    "- **Development Simplification**: Provides infrastructure abstraction, letting developers focus on code while background operations are managed.\n",
    "- **Efficiency and Productivity**: Reduces complexity, speeds execution, and accelerates updates.\n",
    "- **Automated Scaling**: Manages resource scaling to optimize workload efficiency.\n",
    "\n",
    "## 3. Software as a Service (SaaS)\n",
    "- **Collaboration and Accessibility**: Enables access to applications online without local installation, simplifying collaboration.\n",
    "- **Automated Updates**: Software maintenance and updates are managed automatically.\n",
    "- **Cost Efficiency**: Reduces IT support needs, avoiding individual software licenses.\n",
    "\n",
    "## 4. Function as a Service (FaaS)\n",
    "- **Event-Driven Execution**: Allows developers to run code in response to events, with servers and infrastructure managed automatically.\n",
    "- **Cost Efficiency**: “Pay as you run” pricing model for computing resources.\n",
    "- **Scalability and Agility**: Supports seamless scaling and agility for workload handling.\n"
   ]
  },
  {
   "cell_type": "markdown",
   "id": "5cfa28c4-0ae8-4f9d-80eb-131d8dcad969",
   "metadata": {},
   "source": [
    "---"
   ]
  },
  {
   "cell_type": "markdown",
   "id": "18d785a4-4b78-4fa5-986f-a62b7a2f9b24",
   "metadata": {},
   "source": [
    "# What Are Cloud Deployment Models?\n",
    "The following are the Cloud Deployment Models:\n",
    "\n",
    "### 1. Private Deployment Model\n",
    "- It provides an enhancement in protection and customization by cloud resource utilization as per particular specified requirements. It is perfect for companies which looking for security and compliance needs.\n",
    "\n",
    "### 2. Public Deployment Model\n",
    "- It comes with offering a pay-as-you-go principle for scalability and accessibility of cloud resources for numerous users. it ensures cost-effectiveness by providing enterprise-needed services.\n",
    "\n",
    "### 3. Hybrid Deployment Model\n",
    "- It comes up with a combination of elements of both private and public clouds providing seamless data and application processing in between environments. It offers flexibility in optimizing resources such as sensitive data in private clouds and important scalable applications in the public cloud.\n"
   ]
  },
  {
   "cell_type": "markdown",
   "id": "1abba372-16b3-474c-ac68-4c0dffa2996e",
   "metadata": {},
   "source": [
    "---"
   ]
  },
  {
   "cell_type": "markdown",
   "id": "173eda46-d36e-4b43-8309-a557b9cfe06e",
   "metadata": {},
   "source": [
    "# What Is Cloud Hosting?\n",
    "The Infrastructure is where the people start and begin to build from the scratch. This is the layer where the cloud hosting lives. Let’s say you have a company and a website and the website has a lot of communications that are exchanged between members. You start with a few members talking with each other and then gradually the number of members increases. As time passes, as the number of members increases, there would be more traffic on the network and your server will get slow down. This would cause a problem.\n",
    "\n",
    "A few years ago, the websites are put on the server somewhere, in this way you have to run around or buy and set the number of servers. It costs a lot of money and takes a lot of time. You pay for these servers when you are using them and as well as when you are not using them. This is called hosting. \n",
    "\n",
    "This problem is overcome by cloud hosting. With Cloud Computing, you have access to computing power when you needed. Now, your website is put in the cloud server as you put it on a dedicated server. People start visiting your website and if you suddenly need more computing power, you would scale up according to the need. "
   ]
  },
  {
   "cell_type": "markdown",
   "id": "e25b195b-e9b0-4d21-9e72-921fda85a543",
   "metadata": {},
   "source": [
    "---"
   ]
  },
  {
   "cell_type": "markdown",
   "id": "6126abbb-773b-414d-9f47-a889f7093bfc",
   "metadata": {},
   "source": [
    "# Characteristics of Cloud Computing\r\n",
    "\r\n",
    "- **On-demand Self-services**: Users can provision and manage resources without human intervention.\r\n",
    "- **Broad Network Access**: Access cloud services over standard networks using various devices.\r\n",
    "- **Rapid Elasticity**: Scale resources up or down quickly based on demand.\r\n",
    "- **Resource Pooling**: Shared resources across multiple users and applications.\r\n",
    "- **Measured Service**: Track resource usage for billing and optimization.\r\n",
    "- **Multi-tenancy**: Supports multiple users on shared resources.\r\n",
    "- **Virtualization**: Abstract hardware resources for logical user access.\r\n",
    "- **Resilient Computing**: Ensures high availability through redundancy and fault tolerance.\r\n",
    "- **Flexible Pricing Models**: Offers various pricing options like pay-per-use or subscriptions.\r\n",
    "- **Security**: Strong measures to protect data privacy and security.\r\n",
    "- **Automation**: Minimizes manual intervention with automated management.\r\n",
    "- **Sustainability**: Focus on energy efficiency and renewable energy use.\r\n",
    "\r\n",
    "## Unique Characteristics:\r\n",
    "- **Scalability**: Adapts to business needs, expanding or reducing resources as required.\r\n",
    "- **Cost Savings**: Reduces hardware, power, and maintenance costs by outsourcing to vendors.\r\n",
    "- **Reliability**: Uses a virtual network to ensure availability even during server failures.\r\n",
    "- **Physical Security**: Data centers have strict security protocols to protect physical infrastructure.\r\n",
    "- **Outsource Management**: Shifts infrastructure management to the provider, freeing up business resources.\r\n",
    "ance.\r\n"
   ]
  },
  {
   "cell_type": "markdown",
   "id": "941100ea-f7d5-4786-9c27-5ed765d3aa3f",
   "metadata": {},
   "source": [
    "---"
   ]
  },
  {
   "cell_type": "markdown",
   "id": "f70a132e-c390-4bc3-8f18-86c12ca13176",
   "metadata": {},
   "source": [
    "# Top Reasons to Switch from On-Premise to Cloud Computing\r\n",
    "\r\n",
    "- **Cost Reduction**: Saves around 15% of total costs by reducing the need for in-house technical staff and infrastructure maintenance.\r\n",
    "- **Increased Storage**: Provides access to scalable storage solutions like Dropbox, OneDrive, Google Drive, and iCloud, ensuring efficient software and application performance.\r\n",
    "- **Improved Work-Life Balance**: Cloud computing reduces maintenance burdens, allowing employees more personal time and lighter workloads compared to on-premise solutions.\r\n"
   ]
  },
  {
   "cell_type": "markdown",
   "id": "102b7ddf-e6b0-41de-a493-106922618ee5",
   "metadata": {},
   "source": [
    "---"
   ]
  },
  {
   "cell_type": "markdown",
   "id": "12b6116a-439b-4fc8-aa9b-bea146c92105",
   "metadata": {},
   "source": [
    "# Top Leading Cloud Computing Companies\r\n",
    "\r\n",
    "1. **Amazon Web Services (AWS)**\r\n",
    "   - One of the most successful cloud-based businesses, AWS offers Infrastructure as a Service (IaaS) by renting virtual computers on Amazon’s infrastructure.\r\n",
    "\r\n",
    "2. **Microsoft Azure Cloud Platform**\r\n",
    "   - Microsoft’s Azure platform enables .NET Framework applications to run over the internet, serving as a Platform as a Service (PaaS) for Microsoft developers.\r\n",
    "\r\n",
    "3. **Google Cloud Platform (GCP)**\r\n",
    "   - Google uses its global data center network to provide Software as a Service (SaaS), supported by its advertising revenue.\r\n"
   ]
  },
  {
   "cell_type": "markdown",
   "id": "b00cc780-389d-4f8a-b237-29145557be15",
   "metadata": {},
   "source": [
    "---"
   ]
  },
  {
   "cell_type": "markdown",
   "id": "1a1042dc-8bc1-49b9-bafc-048a87d8b1e0",
   "metadata": {},
   "source": [
    "# Advantages of Cloud Computing\r\n",
    "\r\n",
    "- **Cost Efficiency**: Offers flexible, pay-as-you-go pricing, reducing capital expenditures, especially beneficial for small to medium businesses.\r\n",
    "- **Flexibility and Scalability**: Easily scales resources based on demand, allowing efficient workload management without large hardware investments.\r\n",
    "- **Collaboration and Accessibility**: Enables access to data and applications from anywhere, supporting real-time collaboration across locations.\r\n",
    "- **Automatic Maintenance and Updates**: Manages infrastructure and software updates automatically, ensuring access to the latest technologies.\r\n"
   ]
  },
  {
   "cell_type": "markdown",
   "id": "2a3c39f1-9b3b-4ceb-8c71-676530d301bb",
   "metadata": {},
   "source": [
    "# Disadvantages of Cloud Computing\r\n",
    "\r\n",
    "- **Security Concerns**: Storing sensitive data on external servers can increase security risks.\r\n",
    "- **Downtime and Reliability**: Unexpected outages or maintenance issues can disrupt business operations.\r\n",
    "- **Dependency on Internet Connectivity**: Requires stable, high-speed internet, limiting access in regions with poor connectivity.\r\n",
    "- **Cost Management Complexity**: Pay-as-you-go pricing can lead to unexpected costs if usage isn’t carefully monitored and optimized.\r\n"
   ]
  },
  {
   "cell_type": "markdown",
   "id": "5a6889a3-ff91-4369-9b14-386dee2df572",
   "metadata": {},
   "source": [
    "---"
   ]
  },
  {
   "cell_type": "markdown",
   "id": "24938080-bbb9-4661-8f9b-f40e1ad17833",
   "metadata": {},
   "source": [
    "# Cloud Sustainability\r\n",
    "\r\n",
    "- **Energy Efficiency**: Cloud providers optimize data center operations to reduce energy consumption and improve efficiency.\r\n",
    "- **Renewable Energy**: Increasing use of renewable sources, such as solar and wind power, to lower carbon emissions in data centers.\r\n",
    "- **Virtualization**: Server virtualization enhances hardware resource utilization, reducing the need for physical servers and lowering energy usage.\r\n"
   ]
  },
  {
   "cell_type": "markdown",
   "id": "845a62c5-8442-48d0-a998-ed1e100416cd",
   "metadata": {},
   "source": [
    "# Cloud Security\r\n",
    "\r\n",
    "- **Data Encryption**: Ensures stored data is unreadable to unauthorized users, even if intercepted.\r\n",
    "- **Access Control**: Implements strict authentication to allow only authorized access to sensitive cloud data.\r\n",
    "- **Multi-Factor Authentication (MFA)**: Adds a security layer by requiring multiple verification methods, such as passwords, biometrics, or tokens, for accessing cloud services.\r\n"
   ]
  },
  {
   "cell_type": "markdown",
   "id": "5494a93b-0868-41e5-9113-f20b92f49920",
   "metadata": {},
   "source": [
    "# Use Cases of Cloud Computing\r\n",
    "\r\n",
    "- **Scalable Infrastructure**: IaaS enables flexible scaling of computing resources based on demand without investing in hardware.\r\n",
    "- **Efficient Application Development**: PaaS offers environments for easy app development, deployment, and management.\r\n",
    "- **Streamlined Software Access**: SaaS provides software over the internet, eliminating local installation and maintenance.\r\n",
    "- **Data Analytics**: Cloud platforms support big data processing and analytics, deriving insights from large datasets.\r\n",
    "- **Disaster Recovery**: Cloud solutions provide cost-effective data backup and recovery in case of system failures or disasters.\r\n"
   ]
  },
  {
   "cell_type": "markdown",
   "id": "b61ca591-1dcf-4b0d-af7b-a070ef2b4d04",
   "metadata": {},
   "source": [
    "     "
   ]
  }
 ],
 "metadata": {
  "kernelspec": {
   "display_name": "Python 3 (ipykernel)",
   "language": "python",
   "name": "python3"
  },
  "language_info": {
   "codemirror_mode": {
    "name": "ipython",
    "version": 3
   },
   "file_extension": ".py",
   "mimetype": "text/x-python",
   "name": "python",
   "nbconvert_exporter": "python",
   "pygments_lexer": "ipython3",
   "version": "3.12.4"
  }
 },
 "nbformat": 4,
 "nbformat_minor": 5
}
